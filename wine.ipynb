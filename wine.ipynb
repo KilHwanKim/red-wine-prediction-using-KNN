{
  "nbformat": 4,
  "nbformat_minor": 0,
  "metadata": {
    "colab": {
      "name": "wine.ipynb",
      "provenance": [],
      "collapsed_sections": [],
      "authorship_tag": "ABX9TyMBHKJCmOspmWpS7R92u+4R",
      "include_colab_link": true
    },
    "kernelspec": {
      "name": "python3",
      "display_name": "Python 3"
    },
    "language_info": {
      "name": "python"
    },
    "accelerator": "GPU"
  },
  "cells": [
    {
      "cell_type": "markdown",
      "metadata": {
        "id": "view-in-github",
        "colab_type": "text"
      },
      "source": [
        "<a href=\"https://colab.research.google.com/github/KilHwanKim/red-wine-prediction-using-KNN/blob/main/wine.ipynb\" target=\"_parent\"><img src=\"https://colab.research.google.com/assets/colab-badge.svg\" alt=\"Open In Colab\"/></a>"
      ]
    },
    {
      "cell_type": "markdown",
      "metadata": {
        "id": "B1r4PZMvVUir"
      },
      "source": [
        "#####KNN 알고리즘을 이용하여 레드와인의 품질을 예측하려고 한다."
      ]
    },
    {
      "cell_type": "markdown",
      "metadata": {
        "id": "l2nLvCEAozvG"
      },
      "source": [
        "**목차**  \n",
        "**1. 데이터 불러오기**"
      ]
    },
    {
      "cell_type": "code",
      "metadata": {
        "id": "Lmkc1cXRut1P",
        "colab": {
          "base_uri": "https://localhost:8080/"
        },
        "outputId": "c1cc821f-05e5-4845-c941-e987b59a0845"
      },
      "source": [
        "### 코렙 구글드라이브 연동\n",
        "from google.colab import drive\n",
        "drive.mount('/gdrive', force_remount=True)"
      ],
      "execution_count": 1,
      "outputs": [
        {
          "output_type": "stream",
          "text": [
            "Mounted at /gdrive\n"
          ],
          "name": "stdout"
        }
      ]
    },
    {
      "cell_type": "code",
      "metadata": {
        "id": "00iwrPmn2ycz"
      },
      "source": [
        "import numpy as np## 선형데이터 표현\n",
        "import pandas as pd## 데이터 전처리\n",
        "import matplotlib.pyplot as plt\n",
        "from itertools import combinations\n",
        "%matplotlib inline\n",
        "\n",
        "from sklearn.model_selection import train_test_split\n",
        "from sklearn.preprocessing import StandardScaler\n",
        "from sklearn.neighbors import KNeighborsClassifier\n",
        "from sklearn.metrics import confusion_matrix\n",
        "from sklearn.metrics import accuracy_score"
      ],
      "execution_count": 2,
      "outputs": []
    },
    {
      "cell_type": "markdown",
      "metadata": {
        "id": "PWj4aI13pjP2"
      },
      "source": [
        "##1.데이터 불러오기"
      ]
    },
    {
      "cell_type": "code",
      "metadata": {
        "id": "kZEapfh7oLrj"
      },
      "source": [
        "wine = pd.read_csv(\"/gdrive/My Drive/머신러닝/wine/winequality-red.csv\")"
      ],
      "execution_count": 3,
      "outputs": []
    },
    {
      "cell_type": "code",
      "metadata": {
        "colab": {
          "base_uri": "https://localhost:8080/",
          "height": 213
        },
        "id": "Ge0mBmHQ27An",
        "outputId": "c89a67a7-ce21-4db5-e358-c447e4951b0f"
      },
      "source": [
        "wine.head()"
      ],
      "execution_count": 4,
      "outputs": [
        {
          "output_type": "execute_result",
          "data": {
            "text/html": [
              "<div>\n",
              "<style scoped>\n",
              "    .dataframe tbody tr th:only-of-type {\n",
              "        vertical-align: middle;\n",
              "    }\n",
              "\n",
              "    .dataframe tbody tr th {\n",
              "        vertical-align: top;\n",
              "    }\n",
              "\n",
              "    .dataframe thead th {\n",
              "        text-align: right;\n",
              "    }\n",
              "</style>\n",
              "<table border=\"1\" class=\"dataframe\">\n",
              "  <thead>\n",
              "    <tr style=\"text-align: right;\">\n",
              "      <th></th>\n",
              "      <th>fixed acidity</th>\n",
              "      <th>volatile acidity</th>\n",
              "      <th>citric acid</th>\n",
              "      <th>residual sugar</th>\n",
              "      <th>chlorides</th>\n",
              "      <th>free sulfur dioxide</th>\n",
              "      <th>total sulfur dioxide</th>\n",
              "      <th>density</th>\n",
              "      <th>pH</th>\n",
              "      <th>sulphates</th>\n",
              "      <th>alcohol</th>\n",
              "      <th>quality</th>\n",
              "    </tr>\n",
              "  </thead>\n",
              "  <tbody>\n",
              "    <tr>\n",
              "      <th>0</th>\n",
              "      <td>7.4</td>\n",
              "      <td>0.70</td>\n",
              "      <td>0.00</td>\n",
              "      <td>1.9</td>\n",
              "      <td>0.076</td>\n",
              "      <td>11.0</td>\n",
              "      <td>34.0</td>\n",
              "      <td>0.9978</td>\n",
              "      <td>3.51</td>\n",
              "      <td>0.56</td>\n",
              "      <td>9.4</td>\n",
              "      <td>5</td>\n",
              "    </tr>\n",
              "    <tr>\n",
              "      <th>1</th>\n",
              "      <td>7.8</td>\n",
              "      <td>0.88</td>\n",
              "      <td>0.00</td>\n",
              "      <td>2.6</td>\n",
              "      <td>0.098</td>\n",
              "      <td>25.0</td>\n",
              "      <td>67.0</td>\n",
              "      <td>0.9968</td>\n",
              "      <td>3.20</td>\n",
              "      <td>0.68</td>\n",
              "      <td>9.8</td>\n",
              "      <td>5</td>\n",
              "    </tr>\n",
              "    <tr>\n",
              "      <th>2</th>\n",
              "      <td>7.8</td>\n",
              "      <td>0.76</td>\n",
              "      <td>0.04</td>\n",
              "      <td>2.3</td>\n",
              "      <td>0.092</td>\n",
              "      <td>15.0</td>\n",
              "      <td>54.0</td>\n",
              "      <td>0.9970</td>\n",
              "      <td>3.26</td>\n",
              "      <td>0.65</td>\n",
              "      <td>9.8</td>\n",
              "      <td>5</td>\n",
              "    </tr>\n",
              "    <tr>\n",
              "      <th>3</th>\n",
              "      <td>11.2</td>\n",
              "      <td>0.28</td>\n",
              "      <td>0.56</td>\n",
              "      <td>1.9</td>\n",
              "      <td>0.075</td>\n",
              "      <td>17.0</td>\n",
              "      <td>60.0</td>\n",
              "      <td>0.9980</td>\n",
              "      <td>3.16</td>\n",
              "      <td>0.58</td>\n",
              "      <td>9.8</td>\n",
              "      <td>6</td>\n",
              "    </tr>\n",
              "    <tr>\n",
              "      <th>4</th>\n",
              "      <td>7.4</td>\n",
              "      <td>0.70</td>\n",
              "      <td>0.00</td>\n",
              "      <td>1.9</td>\n",
              "      <td>0.076</td>\n",
              "      <td>11.0</td>\n",
              "      <td>34.0</td>\n",
              "      <td>0.9978</td>\n",
              "      <td>3.51</td>\n",
              "      <td>0.56</td>\n",
              "      <td>9.4</td>\n",
              "      <td>5</td>\n",
              "    </tr>\n",
              "  </tbody>\n",
              "</table>\n",
              "</div>"
            ],
            "text/plain": [
              "   fixed acidity  volatile acidity  citric acid  ...  sulphates  alcohol  quality\n",
              "0            7.4              0.70         0.00  ...       0.56      9.4        5\n",
              "1            7.8              0.88         0.00  ...       0.68      9.8        5\n",
              "2            7.8              0.76         0.04  ...       0.65      9.8        5\n",
              "3           11.2              0.28         0.56  ...       0.58      9.8        6\n",
              "4            7.4              0.70         0.00  ...       0.56      9.4        5\n",
              "\n",
              "[5 rows x 12 columns]"
            ]
          },
          "metadata": {
            "tags": []
          },
          "execution_count": 4
        }
      ]
    },
    {
      "cell_type": "code",
      "metadata": {
        "colab": {
          "base_uri": "https://localhost:8080/"
        },
        "id": "d2-ZHmEAwYEc",
        "outputId": "2370d4c4-c6c3-4c78-fd38-f7e03b912d07"
      },
      "source": [
        "len(wine)## 1599개의 데이터"
      ],
      "execution_count": 5,
      "outputs": [
        {
          "output_type": "execute_result",
          "data": {
            "text/plain": [
              "1599"
            ]
          },
          "metadata": {
            "tags": []
          },
          "execution_count": 5
        }
      ]
    },
    {
      "cell_type": "code",
      "metadata": {
        "colab": {
          "base_uri": "https://localhost:8080/"
        },
        "id": "FRLYwqc-v5M8",
        "outputId": "bd79e88d-867f-42fe-e5ee-6666260d9074"
      },
      "source": [
        "features = [x for x in wine]\n",
        "y = wine[features.pop()] ## quality 특성만 추출\n",
        "x = wine[features] \n",
        "y"
      ],
      "execution_count": 6,
      "outputs": [
        {
          "output_type": "execute_result",
          "data": {
            "text/plain": [
              "0       5\n",
              "1       5\n",
              "2       5\n",
              "3       6\n",
              "4       5\n",
              "       ..\n",
              "1594    5\n",
              "1595    6\n",
              "1596    6\n",
              "1597    5\n",
              "1598    6\n",
              "Name: quality, Length: 1599, dtype: int64"
            ]
          },
          "metadata": {
            "tags": []
          },
          "execution_count": 6
        }
      ]
    },
    {
      "cell_type": "markdown",
      "metadata": {
        "id": "th-ZA6d1p2iz"
      },
      "source": [
        "##2.데이터 전처리\n",
        "###a. null 값 존재 시 제거"
      ]
    },
    {
      "cell_type": "code",
      "metadata": {
        "colab": {
          "base_uri": "https://localhost:8080/"
        },
        "id": "8x-hTgy8qZh6",
        "outputId": "bb652d2f-05b0-4e25-9d24-e805c49f3c65"
      },
      "source": [
        "wine.isnull().sum()"
      ],
      "execution_count": 7,
      "outputs": [
        {
          "output_type": "execute_result",
          "data": {
            "text/plain": [
              "fixed acidity           0\n",
              "volatile acidity        0\n",
              "citric acid             0\n",
              "residual sugar          0\n",
              "chlorides               0\n",
              "free sulfur dioxide     0\n",
              "total sulfur dioxide    0\n",
              "density                 0\n",
              "pH                      0\n",
              "sulphates               0\n",
              "alcohol                 0\n",
              "quality                 0\n",
              "dtype: int64"
            ]
          },
          "metadata": {
            "tags": []
          },
          "execution_count": 7
        }
      ]
    },
    {
      "cell_type": "markdown",
      "metadata": {
        "id": "Ez3r2mvLrTgl"
      },
      "source": [
        "null 값은 존재 하지 않는다."
      ]
    },
    {
      "cell_type": "markdown",
      "metadata": {
        "id": "Fmquc271rYAl"
      },
      "source": [
        "\n",
        "###b. 표준화\n",
        "\n",
        "\n",
        "> 다음과 같이 특성별로 평균과 분산이 모두 다르다.\n",
        "\n",
        "\n",
        "\n"
      ]
    },
    {
      "cell_type": "code",
      "metadata": {
        "colab": {
          "base_uri": "https://localhost:8080/"
        },
        "id": "AFdfrIoWrXqO",
        "outputId": "7750a033-cf59-4729-98d0-bce45778d4fa"
      },
      "source": [
        "wine[[\"total sulfur dioxide\",\"volatile acidity\"]].var() ## 특정 속성의 분산"
      ],
      "execution_count": 8,
      "outputs": [
        {
          "output_type": "execute_result",
          "data": {
            "text/plain": [
              "total sulfur dioxide    1082.102373\n",
              "volatile acidity           0.032062\n",
              "dtype: float64"
            ]
          },
          "metadata": {
            "tags": []
          },
          "execution_count": 8
        }
      ]
    },
    {
      "cell_type": "code",
      "metadata": {
        "colab": {
          "base_uri": "https://localhost:8080/"
        },
        "id": "v-q6cFnqtjeO",
        "outputId": "ea4ecb62-e22d-42a1-c984-4268a1fd69e7"
      },
      "source": [
        "wine[[\"total sulfur dioxide\",\"volatile acidity\"]].mean() ## 특정 속성의 분산"
      ],
      "execution_count": 9,
      "outputs": [
        {
          "output_type": "execute_result",
          "data": {
            "text/plain": [
              "total sulfur dioxide    46.467792\n",
              "volatile acidity         0.527821\n",
              "dtype: float64"
            ]
          },
          "metadata": {
            "tags": []
          },
          "execution_count": 9
        }
      ]
    },
    {
      "cell_type": "markdown",
      "metadata": {
        "id": "FdC7N0jPtpvz"
      },
      "source": [
        "즉 두 특성의 1 값은 가치가 다르다.  \n",
        "(\"total sulfur dioxide\"에서 1은 작은 값이지만 \"volatile acidity\"에선 매우 큰 값이다.)  \n",
        "이러한 점은 데이터 예측에 악영향을 주므로 표준화를 시켜준다."
      ]
    },
    {
      "cell_type": "code",
      "metadata": {
        "id": "alDyzTHutpf3"
      },
      "source": [
        "x = StandardScaler().fit_transform(x)"
      ],
      "execution_count": 10,
      "outputs": []
    },
    {
      "cell_type": "markdown",
      "metadata": {
        "id": "yRRbigE5lyrg"
      },
      "source": [
        "##3.데이터 모델링\n",
        "###a. 모든 특성 사용"
      ]
    },
    {
      "cell_type": "code",
      "metadata": {
        "colab": {
          "base_uri": "https://localhost:8080/"
        },
        "id": "TPsP4IsBj7xy",
        "outputId": "afb573f3-5cbf-45fd-bef1-514651b09cab"
      },
      "source": [
        "train_x,test_x,train_y,test_y=train_test_split(x,y,test_size=0.10 , random_state=3,shuffle=True)\n",
        "### test_size 는 테스트10% 훈련데이터 90%\n",
        "Knn = KNeighborsClassifier (n_neighbors=1,p=1)\n",
        "Knn.fit(train_x,train_y)"
      ],
      "execution_count": 11,
      "outputs": [
        {
          "output_type": "execute_result",
          "data": {
            "text/plain": [
              "KNeighborsClassifier(algorithm='auto', leaf_size=30, metric='minkowski',\n",
              "                     metric_params=None, n_jobs=None, n_neighbors=1, p=1,\n",
              "                     weights='uniform')"
            ]
          },
          "metadata": {
            "tags": []
          },
          "execution_count": 11
        }
      ]
    },
    {
      "cell_type": "code",
      "metadata": {
        "colab": {
          "base_uri": "https://localhost:8080/"
        },
        "id": "ypZw9WYlrGjm",
        "outputId": "c835dba3-0230-40c8-e2a9-c0a41e6f49cc"
      },
      "source": [
        "y_pred=Knn.predict(test_x)\n",
        "y_pred"
      ],
      "execution_count": 12,
      "outputs": [
        {
          "output_type": "execute_result",
          "data": {
            "text/plain": [
              "array([6, 6, 6, 8, 5, 5, 6, 5, 5, 5, 5, 5, 5, 5, 7, 5, 6, 5, 7, 7, 7, 5,\n",
              "       7, 6, 5, 5, 3, 6, 5, 6, 5, 6, 5, 6, 5, 5, 6, 5, 5, 6, 6, 5, 7, 6,\n",
              "       5, 5, 6, 5, 6, 6, 4, 6, 6, 5, 5, 5, 5, 5, 5, 5, 5, 4, 5, 5, 6, 6,\n",
              "       5, 6, 5, 6, 4, 5, 5, 5, 6, 6, 6, 6, 6, 6, 6, 4, 5, 7, 5, 5, 5, 5,\n",
              "       5, 5, 6, 6, 5, 5, 5, 6, 5, 5, 6, 7, 5, 5, 7, 8, 6, 5, 5, 5, 6, 7,\n",
              "       7, 7, 6, 6, 5, 5, 6, 5, 6, 6, 6, 5, 6, 5, 6, 6, 7, 6, 5, 5, 5, 6,\n",
              "       6, 5, 7, 5, 7, 6, 5, 6, 6, 7, 5, 5, 6, 5, 6, 6, 7, 5, 5, 6, 6, 5,\n",
              "       5, 6, 5, 6, 5, 6])"
            ]
          },
          "metadata": {
            "tags": []
          },
          "execution_count": 12
        }
      ]
    },
    {
      "cell_type": "code",
      "metadata": {
        "colab": {
          "base_uri": "https://localhost:8080/"
        },
        "id": "aKstCh-0rnx2",
        "outputId": "a8b3b0d4-2913-4bc9-e0ce-5fbe48700fc8"
      },
      "source": [
        "test_y"
      ],
      "execution_count": 13,
      "outputs": [
        {
          "output_type": "execute_result",
          "data": {
            "text/plain": [
              "147     5\n",
              "937     4\n",
              "877     6\n",
              "1000    7\n",
              "73      4\n",
              "       ..\n",
              "816     6\n",
              "1282    6\n",
              "1013    6\n",
              "153     5\n",
              "876     4\n",
              "Name: quality, Length: 160, dtype: int64"
            ]
          },
          "metadata": {
            "tags": []
          },
          "execution_count": 13
        }
      ]
    },
    {
      "cell_type": "code",
      "metadata": {
        "colab": {
          "base_uri": "https://localhost:8080/"
        },
        "id": "0CJEooyYrpaS",
        "outputId": "b6123b48-cc3b-4fd3-a0e1-0ff9307a8da3"
      },
      "source": [
        "print('정확도 : ',100*accuracy_score(test_y,y_pred))"
      ],
      "execution_count": 14,
      "outputs": [
        {
          "output_type": "stream",
          "text": [
            "정확도 :  67.5\n"
          ],
          "name": "stdout"
        }
      ]
    },
    {
      "cell_type": "markdown",
      "metadata": {
        "id": "148waghgsU4k"
      },
      "source": [
        "모든 데이터를 사용하는 것은 오히려 방해가 될 수도 있기 때문에 데이터를 선택하여 정확도를 비교한다."
      ]
    },
    {
      "cell_type": "markdown",
      "metadata": {
        "id": "i0fHz984tbJM"
      },
      "source": [
        "###b.데이터 분산순으로 선택"
      ]
    },
    {
      "cell_type": "code",
      "metadata": {
        "colab": {
          "base_uri": "https://localhost:8080/",
          "height": 375
        },
        "id": "bbQ2vhD8sSsV",
        "outputId": "470dd7dc-c02f-4b8f-df42-e8df28cd4b57"
      },
      "source": [
        "var_df = pd.DataFrame({\"특성\":[],\"분산\": []})\n",
        "var_list = [[feat,wine[feat].var()]for feat in features]\n",
        "var_list.sort(key=lambda x: -x[-1])\n",
        "for i in range(1,len(var_list)+1):\n",
        "    var_df.loc[i] = var_list[i-1]\n",
        "display(var_df) ### 특성별 분산 "
      ],
      "execution_count": 15,
      "outputs": [
        {
          "output_type": "display_data",
          "data": {
            "text/html": [
              "<div>\n",
              "<style scoped>\n",
              "    .dataframe tbody tr th:only-of-type {\n",
              "        vertical-align: middle;\n",
              "    }\n",
              "\n",
              "    .dataframe tbody tr th {\n",
              "        vertical-align: top;\n",
              "    }\n",
              "\n",
              "    .dataframe thead th {\n",
              "        text-align: right;\n",
              "    }\n",
              "</style>\n",
              "<table border=\"1\" class=\"dataframe\">\n",
              "  <thead>\n",
              "    <tr style=\"text-align: right;\">\n",
              "      <th></th>\n",
              "      <th>특성</th>\n",
              "      <th>분산</th>\n",
              "    </tr>\n",
              "  </thead>\n",
              "  <tbody>\n",
              "    <tr>\n",
              "      <th>1</th>\n",
              "      <td>total sulfur dioxide</td>\n",
              "      <td>1082.102373</td>\n",
              "    </tr>\n",
              "    <tr>\n",
              "      <th>2</th>\n",
              "      <td>free sulfur dioxide</td>\n",
              "      <td>109.414884</td>\n",
              "    </tr>\n",
              "    <tr>\n",
              "      <th>3</th>\n",
              "      <td>fixed acidity</td>\n",
              "      <td>3.031416</td>\n",
              "    </tr>\n",
              "    <tr>\n",
              "      <th>4</th>\n",
              "      <td>residual sugar</td>\n",
              "      <td>1.987897</td>\n",
              "    </tr>\n",
              "    <tr>\n",
              "      <th>5</th>\n",
              "      <td>alcohol</td>\n",
              "      <td>1.135647</td>\n",
              "    </tr>\n",
              "    <tr>\n",
              "      <th>6</th>\n",
              "      <td>citric acid</td>\n",
              "      <td>0.037947</td>\n",
              "    </tr>\n",
              "    <tr>\n",
              "      <th>7</th>\n",
              "      <td>volatile acidity</td>\n",
              "      <td>0.032062</td>\n",
              "    </tr>\n",
              "    <tr>\n",
              "      <th>8</th>\n",
              "      <td>sulphates</td>\n",
              "      <td>0.028733</td>\n",
              "    </tr>\n",
              "    <tr>\n",
              "      <th>9</th>\n",
              "      <td>pH</td>\n",
              "      <td>0.023835</td>\n",
              "    </tr>\n",
              "    <tr>\n",
              "      <th>10</th>\n",
              "      <td>chlorides</td>\n",
              "      <td>0.002215</td>\n",
              "    </tr>\n",
              "    <tr>\n",
              "      <th>11</th>\n",
              "      <td>density</td>\n",
              "      <td>0.000004</td>\n",
              "    </tr>\n",
              "  </tbody>\n",
              "</table>\n",
              "</div>"
            ],
            "text/plain": [
              "                      특성           분산\n",
              "1   total sulfur dioxide  1082.102373\n",
              "2    free sulfur dioxide   109.414884\n",
              "3          fixed acidity     3.031416\n",
              "4         residual sugar     1.987897\n",
              "5                alcohol     1.135647\n",
              "6            citric acid     0.037947\n",
              "7       volatile acidity     0.032062\n",
              "8              sulphates     0.028733\n",
              "9                     pH     0.023835\n",
              "10             chlorides     0.002215\n",
              "11               density     0.000004"
            ]
          },
          "metadata": {
            "tags": []
          }
        }
      ]
    },
    {
      "cell_type": "markdown",
      "metadata": {
        "id": "MRTS_XPgxUNB"
      },
      "source": [
        "분산 순으로 데이터를 추가하면서 정확도를 비교하도록 하자"
      ]
    },
    {
      "cell_type": "code",
      "metadata": {
        "colab": {
          "base_uri": "https://localhost:8080/",
          "height": 345
        },
        "id": "GVuZ2HPUxa-6",
        "outputId": "5835e6e5-6eaa-40f2-c240-cd2894100813"
      },
      "source": [
        "var_ac = pd.DataFrame({\"정확도\": []})\n",
        "for ind in range(2,len(var_list)+1) :\n",
        "    x = wine[[i[0] for i in var_list[:ind]]]\n",
        "    train_x,test_x,train_y,test_y=train_test_split(x,y,test_size=0.10 , random_state=3,shuffle=True)\n",
        "    Knn = KNeighborsClassifier (n_neighbors=1,p=1)\n",
        "    Knn.fit(train_x,train_y)\n",
        "    y_pred=Knn.predict(test_x)\n",
        "    y_pred\n",
        "    var_ac.loc[ind]=[100*accuracy_score(test_y,y_pred)]\n",
        "display(var_ac)"
      ],
      "execution_count": 16,
      "outputs": [
        {
          "output_type": "display_data",
          "data": {
            "text/html": [
              "<div>\n",
              "<style scoped>\n",
              "    .dataframe tbody tr th:only-of-type {\n",
              "        vertical-align: middle;\n",
              "    }\n",
              "\n",
              "    .dataframe tbody tr th {\n",
              "        vertical-align: top;\n",
              "    }\n",
              "\n",
              "    .dataframe thead th {\n",
              "        text-align: right;\n",
              "    }\n",
              "</style>\n",
              "<table border=\"1\" class=\"dataframe\">\n",
              "  <thead>\n",
              "    <tr style=\"text-align: right;\">\n",
              "      <th></th>\n",
              "      <th>정확도</th>\n",
              "    </tr>\n",
              "  </thead>\n",
              "  <tbody>\n",
              "    <tr>\n",
              "      <th>2</th>\n",
              "      <td>54.375</td>\n",
              "    </tr>\n",
              "    <tr>\n",
              "      <th>3</th>\n",
              "      <td>60.625</td>\n",
              "    </tr>\n",
              "    <tr>\n",
              "      <th>4</th>\n",
              "      <td>61.250</td>\n",
              "    </tr>\n",
              "    <tr>\n",
              "      <th>5</th>\n",
              "      <td>60.000</td>\n",
              "    </tr>\n",
              "    <tr>\n",
              "      <th>6</th>\n",
              "      <td>59.375</td>\n",
              "    </tr>\n",
              "    <tr>\n",
              "      <th>7</th>\n",
              "      <td>63.125</td>\n",
              "    </tr>\n",
              "    <tr>\n",
              "      <th>8</th>\n",
              "      <td>62.500</td>\n",
              "    </tr>\n",
              "    <tr>\n",
              "      <th>9</th>\n",
              "      <td>62.500</td>\n",
              "    </tr>\n",
              "    <tr>\n",
              "      <th>10</th>\n",
              "      <td>61.875</td>\n",
              "    </tr>\n",
              "    <tr>\n",
              "      <th>11</th>\n",
              "      <td>61.875</td>\n",
              "    </tr>\n",
              "  </tbody>\n",
              "</table>\n",
              "</div>"
            ],
            "text/plain": [
              "       정확도\n",
              "2   54.375\n",
              "3   60.625\n",
              "4   61.250\n",
              "5   60.000\n",
              "6   59.375\n",
              "7   63.125\n",
              "8   62.500\n",
              "9   62.500\n",
              "10  61.875\n",
              "11  61.875"
            ]
          },
          "metadata": {
            "tags": []
          }
        }
      ]
    },
    {
      "cell_type": "markdown",
      "metadata": {
        "id": "7RbUGDyy1qMm"
      },
      "source": [
        "특성 7개를 사용했을 때 가장 높은 정확도 63.125가 나왔다.  \n",
        "('total sulfur dioxide',\n",
        " 'free sulfur dioxide',\n",
        " 'fixed acidity',\n",
        " 'residual sugar',\n",
        " 'alcohol',\n",
        " 'citric acid',\n",
        " 'volatile acidity')\n",
        "\n",
        "\n",
        "\n"
      ]
    },
    {
      "cell_type": "markdown",
      "metadata": {
        "id": "gy8iPhlL3Uov"
      },
      "source": [
        "###c. 각각의 특성을 따로 계산\n",
        "\n",
        "\n",
        "> 각각의 하나의 특성만으로 정확도를 구하고 그 정확도 순으로 특성을 추가하며 정확도를 비교한다.\n",
        "\n"
      ]
    },
    {
      "cell_type": "code",
      "metadata": {
        "colab": {
          "base_uri": "https://localhost:8080/",
          "height": 375
        },
        "id": "TWffRQYI3_J4",
        "outputId": "4a83722e-e302-4d92-ca15-ddfec6cc0bb9"
      },
      "source": [
        "one_ac = pd.DataFrame({\"특성\":[],\"정확도\": []})\n",
        "wine[\"test\"]=0\n",
        "one = []\n",
        "for feat in features :\n",
        "    x = wine[[feat,\"test\"]]\n",
        "    train_x,test_x,train_y,test_y=train_test_split(x,y,test_size=0.10 , random_state=3,shuffle=True)\n",
        "    Knn = KNeighborsClassifier (n_neighbors=1,p=1)\n",
        "    Knn.fit(train_x,train_y)\n",
        "    y_pred=Knn.predict(test_x)\n",
        "    y_pred\n",
        "    one.append([feat,100*accuracy_score(test_y,y_pred)])\n",
        "one.sort(key=lambda x:  -x[-1])\n",
        "for ind,o in enumerate(one):\n",
        "    one_ac.loc[ind]=o\n",
        "del wine[\"test\"]\n",
        "display(one_ac)"
      ],
      "execution_count": 17,
      "outputs": [
        {
          "output_type": "display_data",
          "data": {
            "text/html": [
              "<div>\n",
              "<style scoped>\n",
              "    .dataframe tbody tr th:only-of-type {\n",
              "        vertical-align: middle;\n",
              "    }\n",
              "\n",
              "    .dataframe tbody tr th {\n",
              "        vertical-align: top;\n",
              "    }\n",
              "\n",
              "    .dataframe thead th {\n",
              "        text-align: right;\n",
              "    }\n",
              "</style>\n",
              "<table border=\"1\" class=\"dataframe\">\n",
              "  <thead>\n",
              "    <tr style=\"text-align: right;\">\n",
              "      <th></th>\n",
              "      <th>특성</th>\n",
              "      <th>정확도</th>\n",
              "    </tr>\n",
              "  </thead>\n",
              "  <tbody>\n",
              "    <tr>\n",
              "      <th>0</th>\n",
              "      <td>alcohol</td>\n",
              "      <td>54.375</td>\n",
              "    </tr>\n",
              "    <tr>\n",
              "      <th>1</th>\n",
              "      <td>citric acid</td>\n",
              "      <td>46.875</td>\n",
              "    </tr>\n",
              "    <tr>\n",
              "      <th>2</th>\n",
              "      <td>density</td>\n",
              "      <td>46.875</td>\n",
              "    </tr>\n",
              "    <tr>\n",
              "      <th>3</th>\n",
              "      <td>volatile acidity</td>\n",
              "      <td>45.000</td>\n",
              "    </tr>\n",
              "    <tr>\n",
              "      <th>4</th>\n",
              "      <td>total sulfur dioxide</td>\n",
              "      <td>44.375</td>\n",
              "    </tr>\n",
              "    <tr>\n",
              "      <th>5</th>\n",
              "      <td>sulphates</td>\n",
              "      <td>41.875</td>\n",
              "    </tr>\n",
              "    <tr>\n",
              "      <th>6</th>\n",
              "      <td>fixed acidity</td>\n",
              "      <td>41.250</td>\n",
              "    </tr>\n",
              "    <tr>\n",
              "      <th>7</th>\n",
              "      <td>chlorides</td>\n",
              "      <td>40.000</td>\n",
              "    </tr>\n",
              "    <tr>\n",
              "      <th>8</th>\n",
              "      <td>pH</td>\n",
              "      <td>38.750</td>\n",
              "    </tr>\n",
              "    <tr>\n",
              "      <th>9</th>\n",
              "      <td>free sulfur dioxide</td>\n",
              "      <td>36.250</td>\n",
              "    </tr>\n",
              "    <tr>\n",
              "      <th>10</th>\n",
              "      <td>residual sugar</td>\n",
              "      <td>34.375</td>\n",
              "    </tr>\n",
              "  </tbody>\n",
              "</table>\n",
              "</div>"
            ],
            "text/plain": [
              "                      특성     정확도\n",
              "0                alcohol  54.375\n",
              "1            citric acid  46.875\n",
              "2                density  46.875\n",
              "3       volatile acidity  45.000\n",
              "4   total sulfur dioxide  44.375\n",
              "5              sulphates  41.875\n",
              "6          fixed acidity  41.250\n",
              "7              chlorides  40.000\n",
              "8                     pH  38.750\n",
              "9    free sulfur dioxide  36.250\n",
              "10        residual sugar  34.375"
            ]
          },
          "metadata": {
            "tags": []
          }
        }
      ]
    },
    {
      "cell_type": "markdown",
      "metadata": {
        "id": "JD2dwP_g58aR"
      },
      "source": [
        "정확도가 높은 순서대로 특성을 추가하여 정확도를 구한다."
      ]
    },
    {
      "cell_type": "code",
      "metadata": {
        "colab": {
          "base_uri": "https://localhost:8080/",
          "height": 345
        },
        "id": "hMA9PHO757_x",
        "outputId": "473e8e56-4b3c-49f2-bb98-b888b2993df8"
      },
      "source": [
        "df = pd.DataFrame({\"정확도\": []})\n",
        "for ind in range(2,len(one)+1) :\n",
        "    x = wine[[i[0] for i in one[:ind]]]\n",
        "    train_x,test_x,train_y,test_y=train_test_split(x,y,test_size=0.10 , random_state=3,shuffle=True)\n",
        "    Knn = KNeighborsClassifier (n_neighbors=1,p=1)\n",
        "    Knn.fit(train_x,train_y)\n",
        "    y_pred=Knn.predict(test_x)\n",
        "    y_pred\n",
        "    var_ac.loc[ind]=[100*accuracy_score(test_y,y_pred)]\n",
        "display(var_ac)"
      ],
      "execution_count": 18,
      "outputs": [
        {
          "output_type": "display_data",
          "data": {
            "text/html": [
              "<div>\n",
              "<style scoped>\n",
              "    .dataframe tbody tr th:only-of-type {\n",
              "        vertical-align: middle;\n",
              "    }\n",
              "\n",
              "    .dataframe tbody tr th {\n",
              "        vertical-align: top;\n",
              "    }\n",
              "\n",
              "    .dataframe thead th {\n",
              "        text-align: right;\n",
              "    }\n",
              "</style>\n",
              "<table border=\"1\" class=\"dataframe\">\n",
              "  <thead>\n",
              "    <tr style=\"text-align: right;\">\n",
              "      <th></th>\n",
              "      <th>정확도</th>\n",
              "    </tr>\n",
              "  </thead>\n",
              "  <tbody>\n",
              "    <tr>\n",
              "      <th>2</th>\n",
              "      <td>54.375</td>\n",
              "    </tr>\n",
              "    <tr>\n",
              "      <th>3</th>\n",
              "      <td>62.500</td>\n",
              "    </tr>\n",
              "    <tr>\n",
              "      <th>4</th>\n",
              "      <td>60.625</td>\n",
              "    </tr>\n",
              "    <tr>\n",
              "      <th>5</th>\n",
              "      <td>65.000</td>\n",
              "    </tr>\n",
              "    <tr>\n",
              "      <th>6</th>\n",
              "      <td>65.000</td>\n",
              "    </tr>\n",
              "    <tr>\n",
              "      <th>7</th>\n",
              "      <td>62.500</td>\n",
              "    </tr>\n",
              "    <tr>\n",
              "      <th>8</th>\n",
              "      <td>63.125</td>\n",
              "    </tr>\n",
              "    <tr>\n",
              "      <th>9</th>\n",
              "      <td>64.375</td>\n",
              "    </tr>\n",
              "    <tr>\n",
              "      <th>10</th>\n",
              "      <td>63.125</td>\n",
              "    </tr>\n",
              "    <tr>\n",
              "      <th>11</th>\n",
              "      <td>61.875</td>\n",
              "    </tr>\n",
              "  </tbody>\n",
              "</table>\n",
              "</div>"
            ],
            "text/plain": [
              "       정확도\n",
              "2   54.375\n",
              "3   62.500\n",
              "4   60.625\n",
              "5   65.000\n",
              "6   65.000\n",
              "7   62.500\n",
              "8   63.125\n",
              "9   64.375\n",
              "10  63.125\n",
              "11  61.875"
            ]
          },
          "metadata": {
            "tags": []
          }
        }
      ]
    },
    {
      "cell_type": "markdown",
      "metadata": {
        "id": "UL_jv6cu7Iqw"
      },
      "source": [
        "특성 5개를 사용했을 때 가장 높은 정확도65.000가 나왔다.  \n",
        "('alcohol',\n",
        " 'citric acid',\n",
        " 'density',\n",
        " 'volatile acidity',\n",
        " 'total sulfur dioxide')"
      ]
    },
    {
      "cell_type": "markdown",
      "metadata": {
        "id": "o8i628ka7dkB"
      },
      "source": [
        "###d. 가장 좋은 방법 모든 경우의 수\n",
        "\n",
        "> 가장 좋은 방법으로 조합될 수 있는 모든 경우의 수를 따져주는 것이다.  \n",
        " (k 값 변경하여 진행)\n",
        "\n"
      ]
    },
    {
      "cell_type": "code",
      "metadata": {
        "id": "gJMBqPCs7xyf"
      },
      "source": [
        "answer = []\n",
        "for number in range(1,len(features)+1):\n",
        "    for val in list(combinations(features,number)):\n",
        "        x = wine[list(val)]\n",
        "        x = StandardScaler().fit_transform(x)\n",
        "        train_x,test_x,train_y,test_y=train_test_split(x,y,test_size=0.10 , random_state=3,shuffle=True)\n",
        "        for k in range(1,20):\n",
        "            Knn = KNeighborsClassifier (n_neighbors=k,p=1)\n",
        "            Knn.fit(train_x,train_y)\n",
        "            y_pred=Knn.predict(test_x)\n",
        "            y_pred\n",
        "            answer.append([k,val,100*accuracy_score(test_y,y_pred)])\n",
        "answer.sort(key = lambda x: -x[-1])"
      ],
      "execution_count": 19,
      "outputs": []
    },
    {
      "cell_type": "code",
      "metadata": {
        "colab": {
          "base_uri": "https://localhost:8080/",
          "height": 286
        },
        "id": "hCu9zEyD8z_i",
        "outputId": "086e72bb-a905-4d5c-8b40-d1bd131034ca"
      },
      "source": [
        "df = pd.DataFrame({\"특성\":[],\"K\":[],\"정확도\": []})\n",
        "pd.set_option(\"display.max_colwidth\",-1)\n",
        "for i in range(5):\n",
        "    df.loc[i] = [answer[i][1],pd.to_numeric(answer[i][0]),answer[i][-1]]\n",
        "display(df)"
      ],
      "execution_count": 20,
      "outputs": [
        {
          "output_type": "stream",
          "text": [
            "/usr/local/lib/python3.7/dist-packages/ipykernel_launcher.py:2: FutureWarning: Passing a negative integer is deprecated in version 1.0 and will not be supported in future version. Instead, use None to not limit the column width.\n",
            "  \n",
            "/usr/local/lib/python3.7/dist-packages/numpy/core/_asarray.py:83: VisibleDeprecationWarning: Creating an ndarray from ragged nested sequences (which is a list-or-tuple of lists-or-tuples-or ndarrays with different lengths or shapes) is deprecated. If you meant to do this, you must specify 'dtype=object' when creating the ndarray\n",
            "  return array(a, dtype, copy=False, order=order)\n"
          ],
          "name": "stderr"
        },
        {
          "output_type": "display_data",
          "data": {
            "text/html": [
              "<div>\n",
              "<style scoped>\n",
              "    .dataframe tbody tr th:only-of-type {\n",
              "        vertical-align: middle;\n",
              "    }\n",
              "\n",
              "    .dataframe tbody tr th {\n",
              "        vertical-align: top;\n",
              "    }\n",
              "\n",
              "    .dataframe thead th {\n",
              "        text-align: right;\n",
              "    }\n",
              "</style>\n",
              "<table border=\"1\" class=\"dataframe\">\n",
              "  <thead>\n",
              "    <tr style=\"text-align: right;\">\n",
              "      <th></th>\n",
              "      <th>특성</th>\n",
              "      <th>K</th>\n",
              "      <th>정확도</th>\n",
              "    </tr>\n",
              "  </thead>\n",
              "  <tbody>\n",
              "    <tr>\n",
              "      <th>0</th>\n",
              "      <td>(fixed acidity, volatile acidity, residual sugar, total sulfur dioxide, density, pH)</td>\n",
              "      <td>1.0</td>\n",
              "      <td>73.125</td>\n",
              "    </tr>\n",
              "    <tr>\n",
              "      <th>1</th>\n",
              "      <td>(volatile acidity, residual sugar, free sulfur dioxide, total sulfur dioxide, density, pH, sulphates)</td>\n",
              "      <td>5.0</td>\n",
              "      <td>73.125</td>\n",
              "    </tr>\n",
              "    <tr>\n",
              "      <th>2</th>\n",
              "      <td>(fixed acidity, citric acid, residual sugar, total sulfur dioxide, alcohol)</td>\n",
              "      <td>1.0</td>\n",
              "      <td>71.875</td>\n",
              "    </tr>\n",
              "    <tr>\n",
              "      <th>3</th>\n",
              "      <td>(volatile acidity, residual sugar, free sulfur dioxide, pH, sulphates, alcohol)</td>\n",
              "      <td>1.0</td>\n",
              "      <td>71.875</td>\n",
              "    </tr>\n",
              "    <tr>\n",
              "      <th>4</th>\n",
              "      <td>(fixed acidity, volatile acidity, citric acid, residual sugar, free sulfur dioxide, density, sulphates)</td>\n",
              "      <td>1.0</td>\n",
              "      <td>71.875</td>\n",
              "    </tr>\n",
              "  </tbody>\n",
              "</table>\n",
              "</div>"
            ],
            "text/plain": [
              "                                                                                                        특성  ...     정확도\n",
              "0  (fixed acidity, volatile acidity, residual sugar, total sulfur dioxide, density, pH)                     ...  73.125\n",
              "1  (volatile acidity, residual sugar, free sulfur dioxide, total sulfur dioxide, density, pH, sulphates)    ...  73.125\n",
              "2  (fixed acidity, citric acid, residual sugar, total sulfur dioxide, alcohol)                              ...  71.875\n",
              "3  (volatile acidity, residual sugar, free sulfur dioxide, pH, sulphates, alcohol)                          ...  71.875\n",
              "4  (fixed acidity, volatile acidity, citric acid, residual sugar, free sulfur dioxide, density, sulphates)  ...  71.875\n",
              "\n",
              "[5 rows x 3 columns]"
            ]
          },
          "metadata": {
            "tags": []
          }
        }
      ]
    },
    {
      "cell_type": "markdown",
      "metadata": {
        "id": "z1GZDwTI_IR-"
      },
      "source": [
        "6개의 특성을 K=1로 KNN을 진행 했을 때  73.125%라는 가장 높은 수치가 나왔다.\n",
        "(fixed acidity, volatile acidity, residual sugar, total sulfur dioxide, density, pH)  \n",
        "\n",
        "\n",
        ">그러나 시간이 많이 소모되었다. 특성이나 데이터 갯수가 더 많은 모델에서는 사용하지 못할 것으로 생각된다.\n",
        "\n"
      ]
    }
  ]
}